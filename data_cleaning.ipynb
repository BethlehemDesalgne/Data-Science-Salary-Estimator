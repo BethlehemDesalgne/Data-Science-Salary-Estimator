{
 "cells": [
  {
   "cell_type": "markdown",
   "id": "e534a765",
   "metadata": {},
   "source": [
    "## Data Cleaning"
   ]
  },
  {
   "cell_type": "code",
   "execution_count": null,
   "id": "7fbd31e7",
   "metadata": {},
   "outputs": [],
   "source": [
    "import pandas as pd "
   ]
  },
  {
   "cell_type": "code",
   "execution_count": null,
   "id": "76354893",
   "metadata": {},
   "outputs": [],
   "source": [
    "# Read the CSV file into a DataFrame\n",
    "df = pd.read_csv('glassdoor_jobs.csv')\n",
    "\n",
    "# Create a column 'hourly' that indicates if the salary estimate is hourly\n",
    "df['hourly'] = df['Salary Estimate'].apply(lambda x: 1 if 'per hour' in x.lower() else 0)\n",
    "\n",
    "# Create a column 'employer_provided' that indicates if the salary is employer-provided\n",
    "df['employer_provided'] = df['Salary Estimate'].apply(lambda x: 1 if 'employer provided salary:' in x.lower() else 0)\n",
    "\n",
    "# Filter out rows where the salary estimate is '-1'\n",
    "df = df[df['Salary Estimate'] != '-1']\n",
    "\n",
    "# Split the salary estimate at '(' and take the first part\n",
    "salary = df['Salary Estimate'].apply(lambda x: x.split('(')[0])\n",
    "\n",
    "# Remove 'K' and '$' from the salary string\n",
    "minus_Kd = salary.apply(lambda x: x.replace('K','').replace('$',''))\n",
    "\n",
    "# Remove 'per hour' and 'employer provided salary:' from the salary string\n",
    "min_hr = minus_Kd.apply(lambda x: x.lower().replace('per hour','').replace('employer provided salary:',''))\n",
    "\n",
    "# Extract the minimum salary\n",
    "df['min_salary'] = min_hr.apply(lambda x: int(x.split('-')[0]))\n",
    "\n",
    "# Extract the maximum salary\n",
    "df['max_salary'] = min_hr.apply(lambda x: int(x.split('-')[1]))\n",
    "\n",
    "# Calculate the average salary\n",
    "df['avg_salary'] = (df.min_salary + df.max_salary) / 2\n",
    "\n",
    "# Company name text only\n",
    "# Extract company name text, removing the rating if present\n",
    "df['company_txt'] = df.apply(lambda x: x['Company Name'] if x['Rating'] < 0 else x['Company Name'][:-3], axis=1)\n",
    "\n",
    "# State field \n",
    "# Extract the state from the location\n",
    "df['job_state'] = df['Location'].apply(lambda x: x.split(',')[1])\n",
    "\n",
    "# Count the number of job postings in each state\n",
    "df.job_state.value_counts()\n",
    "\n",
    "# Indicate if the job is in the same state as the company's headquarters\n",
    "df['same_state'] = df.apply(lambda x: 1 if x.Location == x.Headquarters else 0, axis=1)\n",
    "\n",
    "# Calculate the age of the company\n",
    "df['age'] = df.Founded.apply(lambda x: x if x < 1 else 2020 - x)\n",
    "\n",
    "# Indicate if 'python' is mentioned in the job description\n",
    "df['python_yn'] = df['Job Description'].apply(lambda x: 1 if 'python' in x.lower() else 0)\n",
    "\n",
    "# Indicate if 'r studio' or 'r-studio' is mentioned in the job description\n",
    "df['R_yn'] = df['Job Description'].apply(lambda x: 1 if 'r studio' in x.lower() or 'r-studio' in x.lower() else 0)\n",
    "df.R_yn.value_counts()\n",
    "\n",
    "# Indicate if 'spark' is mentioned in the job description\n",
    "df['spark'] = df['Job Description'].apply(lambda x: 1 if 'spark' in x.lower() else 0)\n",
    "df.spark.value_counts()\n",
    "\n",
    "# Indicate if 'aws' is mentioned in the job description\n",
    "df['aws'] = df['Job Description'].apply(lambda x: 1 if 'aws' in x.lower() else 0)\n",
    "df.aws.value_counts()\n",
    "\n",
    "# Indicate if 'excel' is mentioned in the job description\n",
    "df['excel'] = df['Job Description'].apply(lambda x: 1 if 'excel' in x.lower() else 0)\n",
    "df.excel.value_counts()\n",
    "\n",
    "# Display the columns of the DataFrame\n",
    "df.columns\n",
    "\n",
    "# Drop the 'Unnamed: 0' column from the DataFrame\n",
    "df_out = df.drop(['Unnamed: 0'], axis=1)\n",
    "\n",
    "# Save the cleaned DataFrame to a new CSV file\n",
    "df_out.to_csv('salary_data_cleaned.csv', index=False)"
   ]
  }
 ],
 "metadata": {
  "kernelspec": {
   "display_name": "Python 3 (ipykernel)",
   "language": "python",
   "name": "python3"
  },
  "language_info": {
   "codemirror_mode": {
    "name": "ipython",
    "version": 3
   },
   "file_extension": ".py",
   "mimetype": "text/x-python",
   "name": "python",
   "nbconvert_exporter": "python",
   "pygments_lexer": "ipython3",
   "version": "3.10.13"
  }
 },
 "nbformat": 4,
 "nbformat_minor": 5
}
